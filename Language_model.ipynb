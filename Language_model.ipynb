{
 "cells": [
  {
   "cell_type": "code",
   "execution_count": 1,
   "metadata": {},
   "outputs": [],
   "source": [
    "from fastai.text.all import *\n"
   ]
  },
  {
   "cell_type": "code",
   "execution_count": 2,
   "metadata": {},
   "outputs": [],
   "source": [
    "path = untar_data(URLs.IMDB)\n"
   ]
  },
  {
   "cell_type": "code",
   "execution_count": 3,
   "metadata": {},
   "outputs": [
    {
     "data": {
      "text/plain": [
       "Path('C:/Users/akash/.fastai/data/imdb')"
      ]
     },
     "execution_count": 3,
     "metadata": {},
     "output_type": "execute_result"
    }
   ],
   "source": [
    "path"
   ]
  },
  {
   "cell_type": "code",
   "execution_count": 4,
   "metadata": {},
   "outputs": [],
   "source": [
    "files = get_text_files(path, folders = ['train', 'test', 'unsup'])"
   ]
  },
  {
   "cell_type": "code",
   "execution_count": 5,
   "metadata": {},
   "outputs": [
    {
     "data": {
      "text/plain": [
       "(#100000) [Path('C:/Users/akash/.fastai/data/imdb/test/neg/0_2.txt'),Path('C:/Users/akash/.fastai/data/imdb/test/neg/10000_4.txt'),Path('C:/Users/akash/.fastai/data/imdb/test/neg/10001_1.txt'),Path('C:/Users/akash/.fastai/data/imdb/test/neg/10002_3.txt'),Path('C:/Users/akash/.fastai/data/imdb/test/neg/10003_3.txt'),Path('C:/Users/akash/.fastai/data/imdb/test/neg/10004_2.txt'),Path('C:/Users/akash/.fastai/data/imdb/test/neg/10005_2.txt'),Path('C:/Users/akash/.fastai/data/imdb/test/neg/10006_2.txt'),Path('C:/Users/akash/.fastai/data/imdb/test/neg/10007_4.txt'),Path('C:/Users/akash/.fastai/data/imdb/test/neg/10008_4.txt')...]"
      ]
     },
     "execution_count": 5,
     "metadata": {},
     "output_type": "execute_result"
    }
   ],
   "source": [
    "files"
   ]
  },
  {
   "cell_type": "code",
   "execution_count": 6,
   "metadata": {},
   "outputs": [
    {
     "data": {
      "text/plain": [
       "\"Once again Mr. Costner has dragged out a movie for far longer than necessary. Aside from the terrific sea rescue sequences, of which there are very few I just did not care about any of the characters. Most of us have ghosts in the closet, and Costner's character are realized early on, and then forgotten until much later, by which time I did not care. The character we should really care about is a very cocky, overconfident Ashton Kutcher. The problem is he comes off as kid who thinks he's better than anyone else around him and shows no signs of a cluttered closet. His only obstacle appears to be winning over Costner. Finally when we are well past the half way point of this stinker, Costner tells us all about Kutcher's ghosts. We are told why Kutcher is driven to be the best with no prior inkling or foreshadowing. No magic here, it was all I could do to keep from turning it off an hour in.\""
      ]
     },
     "execution_count": 6,
     "metadata": {},
     "output_type": "execute_result"
    }
   ],
   "source": [
    "txt = files[0].open().read()\n",
    "txt"
   ]
  },
  {
   "cell_type": "code",
   "execution_count": 7,
   "metadata": {},
   "outputs": [],
   "source": [
    "spacy = WordTokenizer(buf_sz = 10)\n",
    "toks = first(spacy([txt]))\n",
    "WordTokenizer??"
   ]
  },
  {
   "cell_type": "code",
   "execution_count": 8,
   "metadata": {},
   "outputs": [
    {
     "name": "stdout",
     "output_type": "stream",
     "text": [
      "(#187) ['Once','again','Mr.','Costner','has','dragged','out','a','movie','for','far','longer','than','necessary','.','Aside','from','the','terrific','sea'...]\n"
     ]
    }
   ],
   "source": [
    "print(coll_repr(toks,20))"
   ]
  },
  {
   "cell_type": "code",
   "execution_count": 9,
   "metadata": {},
   "outputs": [
    {
     "name": "stdout",
     "output_type": "stream",
     "text": [
      "(#15) ['hello',',','there','my','name','is',\"n't\",'akash','shastri',\"'s\",'and','I',\"'m\",'very','good'...]\n"
     ]
    }
   ],
   "source": [
    "print(coll_repr(first(spacy(['hello, there my name isn\\'t akash shastri\\'s and I\\'m very good'])),20))"
   ]
  },
  {
   "cell_type": "code",
   "execution_count": 10,
   "metadata": {},
   "outputs": [],
   "source": [
    "tkn = Tokenizer(spacy)"
   ]
  },
  {
   "cell_type": "code",
   "execution_count": 11,
   "metadata": {},
   "outputs": [
    {
     "name": "stdout",
     "output_type": "stream",
     "text": [
      "(#207) ['xxbos','xxmaj','once','again','xxmaj','mr','.','xxmaj','costner','has','dragged','out','a','movie','for','far','longer','than','necessary','.'...]\n"
     ]
    }
   ],
   "source": [
    "print(coll_repr(tkn(txt),20))"
   ]
  },
  {
   "cell_type": "code",
   "execution_count": 12,
   "metadata": {},
   "outputs": [],
   "source": [
    "txts = L(o.open(encoding = 'UTF-8').read() for o in files[:2000])"
   ]
  },
  {
   "cell_type": "code",
   "execution_count": 13,
   "metadata": {},
   "outputs": [],
   "source": [
    "tok200 = txts[:200].map(tkn)"
   ]
  },
  {
   "cell_type": "code",
   "execution_count": 14,
   "metadata": {},
   "outputs": [
    {
     "data": {
      "text/plain": [
       "fastcore.foundation.L"
      ]
     },
     "execution_count": 14,
     "metadata": {},
     "output_type": "execute_result"
    }
   ],
   "source": [
    "type(tok200)"
   ]
  },
  {
   "cell_type": "code",
   "execution_count": 15,
   "metadata": {},
   "outputs": [
    {
     "data": {
      "text/plain": [
       "(#200) [(#207) ['xxbos','xxmaj','once','again','xxmaj','mr','.','xxmaj','costner','has'...],(#314) ['xxbos','xxmaj','this','is','an','example','of','why','the','majority'...],(#267) ['xxbos','xxmaj','first','of','all','i','hate','those','moronic','rappers'...],(#378) ['xxbos','xxmaj','not','even','the','xxmaj','beatles','could','write','songs'...],(#304) ['xxbos','xxmaj','brass','pictures','(','movies','is','not','a','fitting'...],(#156) ['xxbos','a','funny','thing','happened','to','me','while','watching','\"'...],(#197) ['xxbos','xxmaj','this','xxmaj','german','horror','film','has','to','be'...],(#185) ['xxbos','xxmaj','being','a','long','-','time','fan','of','xxmaj'...],(#162) ['xxbos','\"','tokyo','xxmaj','eyes','\"','tells','of','a','17'...],(#229) ['xxbos','xxmaj','wealthy','horse','ranchers','in','xxmaj','buenos','xxmaj','aires'...]...]"
      ]
     },
     "execution_count": 15,
     "metadata": {},
     "output_type": "execute_result"
    }
   ],
   "source": [
    "tok200"
   ]
  },
  {
   "cell_type": "code",
   "execution_count": 16,
   "metadata": {},
   "outputs": [
    {
     "data": {
      "text/plain": [
       "(#207) ['xxbos','xxmaj','once','again','xxmaj','mr','.','xxmaj','costner','has'...]"
      ]
     },
     "execution_count": 16,
     "metadata": {},
     "output_type": "execute_result"
    }
   ],
   "source": [
    "tok200[0]"
   ]
  },
  {
   "cell_type": "code",
   "execution_count": 17,
   "metadata": {},
   "outputs": [],
   "source": [
    "num = Numericalize()\n",
    "num.setup(tok200)\n",
    "coll_repr(num.vocab,20)\n",
    "num??"
   ]
  },
  {
   "cell_type": "code",
   "execution_count": 18,
   "metadata": {},
   "outputs": [],
   "source": [
    "folders = ['train', 'test', 'unsup']\n",
    "get_data  = partial(get_text_files, folders = folders)\n",
    "\n",
    "dls = DataBlock(\n",
    "    blocks = TextBlock.from_folder(path, is_lm = True),\n",
    "    get_items = get_data,\n",
    "    splitter=RandomSplitter(0.1)\n",
    "    ).dataloaders(path, path =path, num_workers = 0, bs = 32, seq_len = 50)"
   ]
  },
  {
   "cell_type": "code",
   "execution_count": 19,
   "metadata": {},
   "outputs": [
    {
     "data": {
      "text/html": [
       "<table border=\"1\" class=\"dataframe\">\n",
       "  <thead>\n",
       "    <tr style=\"text-align: right;\">\n",
       "      <th></th>\n",
       "      <th>text</th>\n",
       "      <th>text_</th>\n",
       "    </tr>\n",
       "  </thead>\n",
       "  <tbody>\n",
       "    <tr>\n",
       "      <th>0</th>\n",
       "      <td>xxbos xxmaj if you want to have a clear picture of how the daily life under xxmaj stalin 's xxup ussr was , you must see this great movie . xxmaj when you watch the xxmaj russian official destroying the xxmaj french woman 's passport , you have a hint</td>\n",
       "      <td>xxmaj if you want to have a clear picture of how the daily life under xxmaj stalin 's xxup ussr was , you must see this great movie . xxmaj when you watch the xxmaj russian official destroying the xxmaj french woman 's passport , you have a hint of</td>\n",
       "    </tr>\n",
       "    <tr>\n",
       "      <th>1</th>\n",
       "      <td>for the first time in a few months , i left this movie theatre feeling i had been entertained . i now consider this movie one of my favorite foreign films . xxmaj as a testament to its greatness , i was able to show this movie to an entire</td>\n",
       "      <td>the first time in a few months , i left this movie theatre feeling i had been entertained . i now consider this movie one of my favorite foreign films . xxmaj as a testament to its greatness , i was able to show this movie to an entire suite</td>\n",
       "    </tr>\n",
       "    <tr>\n",
       "      <th>2</th>\n",
       "      <td>went to hospital during filming on the film . \\n\\n xxmaj the movie also have some incredible fights scenes like ' ' the car park fight ' ' and ' ' the xxunk fight ranks as one of xxmaj jackie 's finest . \\n\\n xxmaj the movie also won award</td>\n",
       "      <td>to hospital during filming on the film . \\n\\n xxmaj the movie also have some incredible fights scenes like ' ' the car park fight ' ' and ' ' the xxunk fight ranks as one of xxmaj jackie 's finest . \\n\\n xxmaj the movie also won award for</td>\n",
       "    </tr>\n",
       "    <tr>\n",
       "      <th>3</th>\n",
       "      <td>too . xxmaj there`s also a few plot holes like in the opening scene involving a couple of witness protection people that the mob has caught up with . xxmaj kruger opens a car trunk and pulls out a couple of bodies and starts a fire thereby throwing the mob</td>\n",
       "      <td>. xxmaj there`s also a few plot holes like in the opening scene involving a couple of witness protection people that the mob has caught up with . xxmaj kruger opens a car trunk and pulls out a couple of bodies and starts a fire thereby throwing the mob of</td>\n",
       "    </tr>\n",
       "    <tr>\n",
       "      <th>4</th>\n",
       "      <td>a little annoyance only slight surprise . xxmaj dennis would have to take me kicking and screaming . xxmaj that whole section of the movie was so horrible -- especially xxmaj meg having to go to the bathroom ( # 2 ) between dumpsters in the dark at night .</td>\n",
       "      <td>little annoyance only slight surprise . xxmaj dennis would have to take me kicking and screaming . xxmaj that whole section of the movie was so horrible -- especially xxmaj meg having to go to the bathroom ( # 2 ) between dumpsters in the dark at night . e</td>\n",
       "    </tr>\n",
       "    <tr>\n",
       "      <th>5</th>\n",
       "      <td>again . xxmaj but the storyline must be taken with a pinch of salt , and be prepared for an ending that most people will just be a bit dumbstruck by . xxbos xxmaj this film is brilliant ! xxmaj it touches everyone who sees it in an extraordinary way</td>\n",
       "      <td>. xxmaj but the storyline must be taken with a pinch of salt , and be prepared for an ending that most people will just be a bit dumbstruck by . xxbos xxmaj this film is brilliant ! xxmaj it touches everyone who sees it in an extraordinary way .</td>\n",
       "    </tr>\n",
       "    <tr>\n",
       "      <th>6</th>\n",
       "      <td>a change of luck . xxmaj but xxmaj sinatra 's never will ; indeed , he never does . xxmaj even while xxunk the xxunk in the new happy ending , he still seems like a self- absorbed xxunk . xxmaj his persona is the result of his character not</td>\n",
       "      <td>change of luck . xxmaj but xxmaj sinatra 's never will ; indeed , he never does . xxmaj even while xxunk the xxunk in the new happy ending , he still seems like a self- absorbed xxunk . xxmaj his persona is the result of his character not his</td>\n",
       "    </tr>\n",
       "    <tr>\n",
       "      <th>7</th>\n",
       "      <td>stall sex ( a scene so un - erotic it makes you truly wonder what anyone sees in the practice ) , the next minute he 's an expert at sexual blackmail and violent double - crossing . xxmaj this is followed by an extended scene with the character we</td>\n",
       "      <td>sex ( a scene so un - erotic it makes you truly wonder what anyone sees in the practice ) , the next minute he 's an expert at sexual blackmail and violent double - crossing . xxmaj this is followed by an extended scene with the character we 'll</td>\n",
       "    </tr>\n",
       "    <tr>\n",
       "      <th>8</th>\n",
       "      <td>do n't like the character of xxmaj leon , you wo n't like the movie . xxmaj his voice , his mannerisms , his dialogue is what carries the movie . i am not a big fan of xxmaj tim xxmaj meadows . i never thought he was a particularly</td>\n",
       "      <td>n't like the character of xxmaj leon , you wo n't like the movie . xxmaj his voice , his mannerisms , his dialogue is what carries the movie . i am not a big fan of xxmaj tim xxmaj meadows . i never thought he was a particularly good</td>\n",
       "    </tr>\n",
       "  </tbody>\n",
       "</table>"
      ],
      "text/plain": [
       "<IPython.core.display.HTML object>"
      ]
     },
     "metadata": {},
     "output_type": "display_data"
    }
   ],
   "source": [
    "dls.show_batch()"
   ]
  },
  {
   "cell_type": "code",
   "execution_count": 20,
   "metadata": {},
   "outputs": [],
   "source": [
    "learn = language_model_learner(dls, AWD_LSTM, drop_mult = 0.3, metrics = [accuracy, perplexity]).to_fp16()"
   ]
  },
  {
   "cell_type": "code",
   "execution_count": null,
   "metadata": {},
   "outputs": [],
   "source": []
  },
  {
   "cell_type": "code",
   "execution_count": 21,
   "metadata": {},
   "outputs": [
    {
     "data": {
      "text/html": [
       "<table border=\"1\" class=\"dataframe\">\n",
       "  <thead>\n",
       "    <tr style=\"text-align: left;\">\n",
       "      <th>epoch</th>\n",
       "      <th>train_loss</th>\n",
       "      <th>valid_loss</th>\n",
       "      <th>accuracy</th>\n",
       "      <th>perplexity</th>\n",
       "      <th>time</th>\n",
       "    </tr>\n",
       "  </thead>\n",
       "  <tbody>\n",
       "    <tr>\n",
       "      <td>0</td>\n",
       "      <td>4.217071</td>\n",
       "      <td>4.010743</td>\n",
       "      <td>0.293764</td>\n",
       "      <td>55.187866</td>\n",
       "      <td>2:01:45</td>\n",
       "    </tr>\n",
       "  </tbody>\n",
       "</table>"
      ],
      "text/plain": [
       "<IPython.core.display.HTML object>"
      ]
     },
     "metadata": {},
     "output_type": "display_data"
    }
   ],
   "source": [
    "learn.fit_one_cycle(1, 2e-2)"
   ]
  },
  {
   "cell_type": "code",
   "execution_count": 22,
   "metadata": {},
   "outputs": [
    {
     "data": {
      "text/plain": [
       "Path('C:/Users/akash/.fastai/data/imdb/models/1epoch.pth')"
      ]
     },
     "execution_count": 22,
     "metadata": {},
     "output_type": "execute_result"
    }
   ],
   "source": [
    "learn.save('1epoch')"
   ]
  },
  {
   "cell_type": "code",
   "execution_count": 23,
   "metadata": {},
   "outputs": [],
   "source": [
    "learn = learn.load('1epoch')"
   ]
  },
  {
   "cell_type": "code",
   "execution_count": 24,
   "metadata": {},
   "outputs": [
    {
     "data": {
      "text/html": [
       "<table border=\"1\" class=\"dataframe\">\n",
       "  <thead>\n",
       "    <tr style=\"text-align: left;\">\n",
       "      <th>epoch</th>\n",
       "      <th>train_loss</th>\n",
       "      <th>valid_loss</th>\n",
       "      <th>accuracy</th>\n",
       "      <th>perplexity</th>\n",
       "      <th>time</th>\n",
       "    </tr>\n",
       "  </thead>\n",
       "  <tbody>\n",
       "    <tr>\n",
       "      <td>0</td>\n",
       "      <td>4.005681</td>\n",
       "      <td>3.870389</td>\n",
       "      <td>0.311716</td>\n",
       "      <td>47.961018</td>\n",
       "      <td>2:18:41</td>\n",
       "    </tr>\n",
       "    <tr>\n",
       "      <td>1</td>\n",
       "      <td>3.946382</td>\n",
       "      <td>3.811309</td>\n",
       "      <td>0.318700</td>\n",
       "      <td>45.209583</td>\n",
       "      <td>2:15:47</td>\n",
       "    </tr>\n",
       "    <tr>\n",
       "      <td>2</td>\n",
       "      <td>3.888460</td>\n",
       "      <td>3.740412</td>\n",
       "      <td>0.325637</td>\n",
       "      <td>42.115349</td>\n",
       "      <td>2:18:28</td>\n",
       "    </tr>\n",
       "    <tr>\n",
       "      <td>3</td>\n",
       "      <td>3.739059</td>\n",
       "      <td>3.666821</td>\n",
       "      <td>0.334704</td>\n",
       "      <td>39.127304</td>\n",
       "      <td>2:19:33</td>\n",
       "    </tr>\n",
       "    <tr>\n",
       "      <td>4</td>\n",
       "      <td>3.656766</td>\n",
       "      <td>3.614144</td>\n",
       "      <td>0.340882</td>\n",
       "      <td>37.119545</td>\n",
       "      <td>2:17:11</td>\n",
       "    </tr>\n",
       "    <tr>\n",
       "      <td>5</td>\n",
       "      <td>3.578729</td>\n",
       "      <td>3.603783</td>\n",
       "      <td>0.342243</td>\n",
       "      <td>36.736942</td>\n",
       "      <td>2:18:00</td>\n",
       "    </tr>\n",
       "  </tbody>\n",
       "</table>"
      ],
      "text/plain": [
       "<IPython.core.display.HTML object>"
      ]
     },
     "metadata": {},
     "output_type": "display_data"
    }
   ],
   "source": [
    "\n",
    "learn.unfreeze()\n",
    "learn.fit_one_cycle(6, 2e-3)"
   ]
  },
  {
   "cell_type": "code",
   "execution_count": 25,
   "metadata": {},
   "outputs": [],
   "source": [
    "\n",
    "learn.save_encoder('finetuned')"
   ]
  },
  {
   "cell_type": "code",
   "execution_count": 31,
   "metadata": {},
   "outputs": [
    {
     "data": {
      "text/html": [],
      "text/plain": [
       "<IPython.core.display.HTML object>"
      ]
     },
     "metadata": {},
     "output_type": "display_data"
    },
    {
     "name": "stdout",
     "output_type": "stream",
     "text": [
      "i love this movie because of the acting , the story , and the fact that it deals with the Australian Civil War . i was surprised to see that \" sellout \" has n't agreed to this role lately and i have to assume that the sort of movies he is made to do were just starting out with a desperate attempt to produce a more dramatic movie . The movie has a small Hong Kong quality ,\n"
     ]
    }
   ],
   "source": [
    "# Testing predictions from our language model\n",
    "TEXT = \"I love this movie because\"\n",
    "N_WORDS = 80\n",
    "N_SENTENCES = 1\n",
    "preds = [learn.predict(TEXT, N_WORDS, temperature=0.75) \n",
    "         for _ in range(N_SENTENCES)]\n",
    "\n",
    "print(\"\\n\".join(preds))"
   ]
  },
  {
   "cell_type": "code",
   "execution_count": 27,
   "metadata": {},
   "outputs": [
    {
     "data": {
      "text/plain": [
       "Path('C:/Users/akash/.fastai/data/imdb')"
      ]
     },
     "execution_count": 27,
     "metadata": {},
     "output_type": "execute_result"
    }
   ],
   "source": [
    "path"
   ]
  },
  {
   "cell_type": "code",
   "execution_count": 28,
   "metadata": {},
   "outputs": [],
   "source": [
    "learn.export('exported_finetuned.pkl')"
   ]
  },
  {
   "cell_type": "code",
   "execution_count": null,
   "metadata": {},
   "outputs": [],
   "source": []
  }
 ],
 "metadata": {
  "kernelspec": {
   "display_name": "Python 3",
   "language": "python",
   "name": "python3"
  },
  "language_info": {
   "codemirror_mode": {
    "name": "ipython",
    "version": 3
   },
   "file_extension": ".py",
   "mimetype": "text/x-python",
   "name": "python",
   "nbconvert_exporter": "python",
   "pygments_lexer": "ipython3",
   "version": "3.8.5"
  }
 },
 "nbformat": 4,
 "nbformat_minor": 4
}
